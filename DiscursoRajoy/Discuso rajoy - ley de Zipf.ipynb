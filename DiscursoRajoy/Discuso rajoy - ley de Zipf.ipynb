{
 "metadata": {
  "name": "Discuso rajoy - ley de Zipf"
 },
 "nbformat": 3,
 "nbformat_minor": 0,
 "worksheets": [
  {
   "cells": [
    {
     "cell_type": "code",
     "collapsed": false,
     "input": [
      "#imports\n",
      "from __future__ import unicode_literals\n",
      "import urllib2\n",
      "from BeautifulSoup import BeautifulSoup\n",
      "from BeautifulSoup import BeautifulStoneSoup"
     ],
     "language": "python",
     "metadata": {},
     "outputs": [],
     "prompt_number": 84
    },
    {
     "cell_type": "code",
     "collapsed": false,
     "input": [
      "#read the data\n",
      "soup = BeautifulSoup(urllib2.urlopen('http://www.lamoncloa.gob.es/Presidente/Intervenciones/Sesionesparlamento/2013/prsp20130801.htm').read() , convertEntities=BeautifulStoneSoup.HTML_ENTITIES)\n",
      "discurso= soup('div',{'class':'contenidoTexto'})[0].getText()"
     ],
     "language": "python",
     "metadata": {},
     "outputs": [],
     "prompt_number": 85
    },
    {
     "cell_type": "code",
     "collapsed": false,
     "input": [
      "#removing puctuation\n",
      "punctuation=[u'.',u',',u'-',u';',u'\u00bf',u'?',u'\"',u'(',u')',u':']\n",
      "translatedict = dict((ord(char),' ') for char in punctuation)\n",
      "discurso=discurso.translate(translatedict).strip().replace('  ',' ').replace('  ',' ').lower()\n"
     ],
     "language": "python",
     "metadata": {},
     "outputs": [],
     "prompt_number": 107
    },
    {
     "cell_type": "code",
     "collapsed": false,
     "input": [
      "#separar por palabras\n",
      "palabras = discurso.split(' ')"
     ],
     "language": "python",
     "metadata": {},
     "outputs": [],
     "prompt_number": 108
    },
    {
     "cell_type": "code",
     "collapsed": false,
     "input": [
      "#Contador de palabras\n",
      "from collections import Counter\n",
      "juntaPalabras = Counter(palabras)"
     ],
     "language": "python",
     "metadata": {},
     "outputs": [],
     "prompt_number": 109
    },
    {
     "cell_type": "code",
     "collapsed": false,
     "input": [
      "#las n palabras mas dichas\n",
      "from pprint import pprint\n",
      "n=50\n",
      "for rank,n_palabra in enumerate(juntaPalabras.most_common(n)):\n",
      "    veces,palabra = n_palabra\n",
      "    print '#%s\\t%s\\t(%s veces)' % (rank,veces,palabra)"
     ],
     "language": "python",
     "metadata": {},
     "outputs": [
      {
       "output_type": "stream",
       "stream": "stdout",
       "text": [
        "#0\tde\t(451 veces)\n",
        "#1\tque\t(351 veces)\n",
        "#2\tla\t(293 veces)\n",
        "#3\ten\t(205 veces)\n",
        "#4\ta\t(189 veces)\n",
        "#5\ty\t(188 veces)\n",
        "#6\tel\t(173 veces)\n",
        "#7\tno\t(141 veces)\n",
        "#8\tlos\t(133 veces)\n",
        "#9\tse\t(104 veces)\n",
        "#10\tes\t(99 veces)\n",
        "#11\tlo\t(85 veces)\n",
        "#12\tpor\t(78 veces)\n",
        "#13\tlas\t(73 veces)\n",
        "#14\tun\t(70 veces)\n",
        "#15\tdel\t(69 veces)\n",
        "#16\tuna\t(65 veces)\n",
        "#17\tpara\t(57 veces)\n",
        "#18\tse\u00f1or\u00edas\t(54 veces)\n",
        "#19\tcomo\t(53 veces)\n",
        "#20\tcon\t(53 veces)\n",
        "#21\tsu\t(43 veces)\n",
        "#22\tal\t(42 veces)\n",
        "#23\tha\t(41 veces)\n",
        "#24\tm\u00e1s\t(36 veces)\n",
        "#25\tme\t(34 veces)\n",
        "#26\tni\t(34 veces)\n",
        "#27\than\t(28 veces)\n",
        "#28\testa\t(26 veces)\n",
        "#29\tsi\t(26 veces)\n",
        "#30\tporque\t(26 veces)\n",
        "#31\tespa\u00f1a\t(25 veces)\n",
        "#32\tmi\t(23 veces)\n",
        "#33\tpero\t(23 veces)\n",
        "#34\tse\u00f1or\t(23 veces)\n",
        "#35\tsobre\t(22 veces)\n",
        "#36\teste\t(22 veces)\n",
        "#37\tyo\t(22 veces)\n",
        "#38\tles\t(22 veces)\n",
        "#39\ttodos\t(21 veces)\n",
        "#40\tc\u00e1mara\t(21 veces)\n",
        "#41\tgobierno\t(20 veces)\n",
        "#42\tsus\t(20 veces)\n",
        "#43\tmejor\t(19 veces)\n",
        "#44\ttiene\t(19 veces)\n",
        "#45\ttodo\t(18 veces)\n",
        "#46\test\u00e1\t(17 veces)\n",
        "#47\to\t(17 veces)\n",
        "#48\tson\t(17 veces)\n",
        "#49\tsin\t(17 veces)\n"
       ]
      }
     ],
     "prompt_number": 112
    },
    {
     "cell_type": "code",
     "collapsed": false,
     "input": [
      "#genearting Histrogram\n",
      "import pylab\n",
      "histogram  =Counter(juntaPalabras.values())\n",
      "veces_repetido = histogram.keys()\n",
      "numero_palabras = histogram.values()\n",
      "pylab.loglog(veces_repetido,numero_palabras, '.')\n",
      "pylab.xlabel('veces que se ha repetido')\n",
      "pylab.ylabel('numero de palabras')\n",
      "pylab.show()"
     ],
     "language": "python",
     "metadata": {},
     "outputs": [
      {
       "output_type": "display_data",
       "png": "[encoded data removed]"
      }
     ],
     "prompt_number": 144
    },
    {
     "cell_type": "code",
     "collapsed": false,
     "input": [
      "#Generating probabillity distribution  function\n",
      "import numpy as np\n",
      "from __future__ import division\n",
      "probabilidad = np.array(numero_palabras) / sum(numero_palabras)\n",
      "pylab.loglog(veces_repetido,probabilidad, '.')\n",
      "pylab.xlabel('repeticion de palabra')\n",
      "pylab.ylabel('probabilidad')\n",
      "pylab.show()"
     ],
     "language": "python",
     "metadata": {},
     "outputs": [
      {
       "output_type": "display_data",
       "png": "[encoded data removed]"
      }
     ],
     "prompt_number": 168
    },
    {
     "cell_type": "code",
     "collapsed": false,
     "input": [
      "#zipf teorica http://es.wikipedia.org/wiki/Ley_de_Zipf\n",
      "a=2#valor del exponente\n",
      "n_max=max(veces_repetido)\n",
      "zipfteorico = list(1/(i**a) for i in range(1,n_max))\n",
      "zipfteorico = zipfteorico/sum(zipfteorico)\n",
      "\n",
      "pylab.loglog(range(1,n_max),zipfteorico)\n",
      "pylab.loglog(veces_repetido,probabilidad, '.')\n",
      "pylab.xlabel('repeticion de palabra')\n",
      "pylab.ylabel('probabilidad')\n",
      "pylab.show()"
     ],
     "language": "python",
     "metadata": {},
     "outputs": [
      {
       "output_type": "display_data",
       "png": "[encoded data removed]"
      }
     ],
     "prompt_number": 173
    },
    {
     "cell_type": "markdown",
     "metadata": {},
     "source": [
      "#Conclusi\u00f3n\n",
      "\n",
      "El encaje para valores bajos es muy bueno con una a = 2\n",
      "\n",
      "A partir de ese valor la ley de zipf se pierde, debido al limite del dataset.\n",
      "\n",
      "No soy raro, tan s\u00f3lo me gusta la Data Science, otros siguien discursos de pol\u00edticos... :P"
     ]
    }
   ],
   "metadata": {}
  }
 ]
}